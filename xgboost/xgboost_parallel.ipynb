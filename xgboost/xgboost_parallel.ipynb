{
 "cells": [
  {
   "cell_type": "code",
   "execution_count": null,
   "metadata": {},
   "outputs": [],
   "source": [
    "import numpy as np\n",
    "import time\n",
    "from numba import cuda\n",
    "from sklearn.metrics import accuracy_score\n",
    "import warnings\n",
    "warnings.filterwarnings('ignore')"
   ]
  },
  {
   "cell_type": "markdown",
   "metadata": {},
   "source": [
    "### Xét class **`Tree`**"
   ]
  },
  {
   "cell_type": "markdown",
   "metadata": {},
   "source": [
    "**Song song hóa hàm `find_best_split()`**\n",
    "\n",
    "**Mô tả hàm**: `find_best_split()` là hàm tìm giá trị split sao cho gain của chúng khi rẽ nhánh đạt giá trị lớn nhất => đây là giá trị split tốt nhất dùng để rẽ nhánh.\n",
    "\n",
    "**Ý tưởng tuần tự**: Vét cạn tất cả trường hợp: Xét feature thứ i, tìm từng giá trị split theo feature i, tính gain và so sánh với `best_gain`, lặp lại đến hết và sau cùng lưu vị trí feature cùng với giá trị split và best_gain.\n",
    "\n",
    "**Ý tưởng song song**: Chia làm 2 hàm con:\n",
    "- `compute_split_value()`: tính tất cả giá trị split value, mỗi thread sẽ đảm nhiệm tính một giá trị split\n",
    "- `compute_similarity()`: sau khi xác định được mảng giá trị split, với mỗi giá trị, ta tiến hành rẽ nhánh và tính tổng similarity của nhánh bên trái và nhánh bên phải.\n",
    "  \n",
    "Kết hợp với `np.argmax()` của thư viện numpy để tìm được giá trị split tốt nhất. Tương tự như ý tưởng tuần tự, ta lưu vị trí feature cùng với giá trị split và best_gain."
   ]
  },
  {
   "cell_type": "code",
   "execution_count": null,
   "metadata": {},
   "outputs": [],
   "source": [
    "''' Hàm tính tất cả giá trị split value. Mỗi thread sẽ tìm split value của 2 giá trị liên tiếp\n",
    "    Nếu giá trị tại feature thứ i của mẫu A và B bằng nhau -> trả giá trị nan\n",
    "    Nếu giá trị tại feature thứ i của mẫu A và B khác nhau -> trả giá trị mean của 2 feature thuộc 2 mẫu\n",
    "    Tham số\n",
    "        input: ma trận dữ liệu X\n",
    "        output: ma trận split value\n",
    "\n",
    "    Trước khi đưa vào input sẽ được sort axis = 0 -> sort lại theo từng feature để dễ dàng tìm split value\n",
    "'''\n",
    "\n",
    "@cuda.jit\n",
    "def compute_split_value(input, output):\n",
    "    c, r = cuda.grid(2)\n",
    "    if r < output.shape[0] and c < output.shape[1]:\n",
    "        if input[r, c] != input[r + 1, c]:\n",
    "            split = (input[r, c] + input[r + 1, c]) / 2\n",
    "            output[r, c] = split\n",
    "        else:\n",
    "            output[r, c] = np.nan"
   ]
  },
  {
   "cell_type": "code",
   "execution_count": null,
   "metadata": {},
   "outputs": [],
   "source": []
  }
 ],
 "metadata": {
  "language_info": {
   "name": "python"
  }
 },
 "nbformat": 4,
 "nbformat_minor": 2
}
