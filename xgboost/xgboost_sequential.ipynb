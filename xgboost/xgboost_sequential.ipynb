{
  "cells": [
    {
      "cell_type": "markdown",
      "metadata": {
        "id": "JGgvojIKJYHF"
      },
      "source": [
        "<h1>XGBoost</h1>"
      ]
    },
    {
      "cell_type": "markdown",
      "metadata": {
        "id": "8tOLBiOiIvzW"
      },
      "source": [
        "# Introduction"
      ]
    },
    {
      "cell_type": "markdown",
      "metadata": {
        "id": "1_95sQo3JIlI"
      },
      "source": [
        "XGBoost is a gradient boosting model which operates by building a series of decision trees iteratively, where each subsequent tree will try to correct the errors made by the previous tree. It uses gradient-based optimization technique to minimize the loss function."
      ]
    },
    {
      "cell_type": "markdown",
      "metadata": {
        "id": "eynTwbU9kj3s"
      },
      "source": [
        "# How XGBoost algorithm works"
      ]
    },
    {
      "cell_type": "markdown",
      "metadata": {
        "id": "omJGd9PlkqrW"
      },
      "source": [
        "## 1. Calculate pseudo residuals\n",
        "\n",
        "\n"
      ]
    },
    {
      "cell_type": "markdown",
      "metadata": {
        "id": "jcBBVUAMn3c7"
      },
      "source": [
        "$Residuals = y - p$  \n",
        "* $y$: Target labels\n",
        "* $p$: Prediction probability  \n",
        "\n",
        "The initial prediction probability is usually 0.5\n",
        "\n",
        "\n"
      ]
    },
    {
      "cell_type": "markdown",
      "metadata": {
        "id": "l3G3aBpBqbga"
      },
      "source": [
        "## 2. Find the best split"
      ]
    },
    {
      "cell_type": "markdown",
      "metadata": {
        "id": "arFiyWV5sW6A"
      },
      "source": [
        "XGBoost uses a metric called **Similarity Score** to choose the split when building the decision tree.  \n",
        "\n",
        "*Similarity Score* = $\\frac{∑(Residuals)^2}{∑Pi-1*(1-Pi-1) + λ}$  \n",
        "\n",
        "* $Pi$: Previous prediction probability\n",
        "* $λ$: Regularization parameter\n",
        "\n",
        "The feature and value decided as the threshold to split the tree is the one having the highest **Gain**  \n",
        "\n",
        "$Gain = SimilarityScore(LeftChild) + SimilarityScore(RightChild) - SimilarityScore(Root)$"
      ]
    },
    {
      "cell_type": "markdown",
      "metadata": {
        "id": "VfRfrQbsBVNS"
      },
      "source": [
        "## 3. Compute the output value"
      ]
    },
    {
      "cell_type": "markdown",
      "metadata": {
        "id": "niC5SbFyBaDX"
      },
      "source": [
        "The value stored in leaf node are computed using the formular below\n",
        "\n",
        "$Output = \\frac{∑(Residuals)}{∑Pi-1*(1-Pi-1) + λ}$"
      ]
    },
    {
      "cell_type": "markdown",
      "metadata": {
        "id": "qGDn_lL0Q_6q"
      },
      "source": [
        "## 4. Update prediction probability"
      ]
    },
    {
      "cell_type": "markdown",
      "metadata": {
        "id": "9Nowi8rbRdG4"
      },
      "source": [
        "After finishing building the tree, the prediction will be updated based on the calculated output values  \n",
        "\n",
        "$Prediction = ln(\\frac{P}{1-P}) + α*Output$\n",
        "\n",
        "* $P$: Previous prediction probabiblity\n",
        "* $Output$: The computed output value of the current tree  \n",
        "\n",
        "The values we get from the formular above actually are log odds values. Therefore, they need to be converted to probability values\n",
        "\n",
        "$Probability = \\frac{e^{pred}}{1 + e^{pred}}$  \n",
        "\n",
        "* $pred$: The log odds values of prediction  \n",
        "\n",
        "Compute the residuals again with the updated probability and repeat the same steps above for subsequent models\n"
      ]
    },
    {
      "cell_type": "markdown",
      "metadata": {
        "id": "hgJQ0ddhnxuo"
      },
      "source": [
        "# Implementation"
      ]
    },
    {
      "cell_type": "code",
      "execution_count": 1,
      "metadata": {
        "id": "jjLREnOAUH6r"
      },
      "outputs": [],
      "source": [
        "import numpy as np\n",
        "import time\n",
        "import math\n",
        "from sklearn.metrics import accuracy_score, log_loss\n",
        "import pandas as pd\n",
        "import matplotlib.pyplot as plt\n",
        "import seaborn as sns"
      ]
    },
    {
      "cell_type": "markdown",
      "metadata": {
        "id": "x9-4tSGH70vL"
      },
      "source": [
        "## Implement decision tree model"
      ]
    },
    {
      "cell_type": "code",
      "execution_count": 2,
      "metadata": {
        "id": "NWGpSJ29bVr4"
      },
      "outputs": [],
      "source": [
        "class Tree:\n",
        "    def __init__(self, max_depth = 3, min_samples = 1, min_child_weight = 1, lambda_ = 0, gamma = 0):\n",
        "        self.max_depth = max_depth\n",
        "        self.min_samples = min_samples\n",
        "        self.min_child_weight = min_child_weight\n",
        "        self.lambda_ = lambda_\n",
        "        self.gamma = gamma\n",
        "        self.tree = {}\n",
        "        self.fbs_time = 0\n",
        "\n",
        "\n",
        "    #Compute the Similarity Score\n",
        "    def similarity(self, residual, probs):\n",
        "        nu = np.sum(residual) ** 2\n",
        "        de = np.sum(probs * (1 - probs)) + self.lambda_\n",
        "        return nu / de\n",
        "\n",
        "    #Compute the output value in leaf node\n",
        "    def compute_output(self, residual, probs):\n",
        "        nu = np.sum(residual)\n",
        "        de = np.sum(probs * (1 - probs)) + self.lambda_\n",
        "        return nu / de\n",
        "\n",
        "    def cover(self, probs):\n",
        "        return np.sum(probs * (1 - probs))\n",
        "\n",
        "    def split_data(self, X, feature_idx, split_value):\n",
        "        left_idx = X[:, feature_idx] <= split_value\n",
        "        right_idx = X[:, feature_idx] > split_value\n",
        "        return left_idx, right_idx\n",
        "\n",
        "    #Choose the best split based on the Gain score\n",
        "    def find_best_split(self, X, residual, probs):\n",
        "        best_gain = -np.inf\n",
        "        best_split_feature_idx = None\n",
        "        best_split_value = None\n",
        "\n",
        "        for feature_idx in range(X.shape[1]):\n",
        "            list_values = X[:, feature_idx]\n",
        "            list_unique = np.unique(list_values)\n",
        "\n",
        "            for i in range(len(list_unique) - 1):\n",
        "                value = (list_unique[i] + list_unique[i + 1]) / 2\n",
        "\n",
        "                left_idx, right_idx = self.split_data(X, feature_idx, value)\n",
        "                p_left = probs[left_idx]\n",
        "                p_right = probs[right_idx]\n",
        "\n",
        "                if (len(left_idx) < self.min_samples or len(right_idx) < self.min_samples\n",
        "                    or self.cover(p_left) < self.min_child_weight or self.cover(p_right) < self.min_child_weight):\n",
        "                    continue\n",
        "\n",
        "                r_left = residual[left_idx]\n",
        "                r_right = residual[right_idx]\n",
        "\n",
        "                gain = self.similarity(r_left, p_left) + self.similarity(r_right, p_right) - self.similarity(residual, probs)\n",
        "\n",
        "                if gain > best_gain:\n",
        "                    best_gain = gain\n",
        "                    best_split_feature_idx = feature_idx\n",
        "                    best_split_value = value\n",
        "\n",
        "        if(best_gain - self.gamma < 0):\n",
        "            best_split_feature_idx = None\n",
        "            best_split_value = None\n",
        "\n",
        "        return best_split_feature_idx, best_split_value\n",
        "\n",
        "    def build_tree(self, X, residual, probs, depth):\n",
        "        if depth >= self.max_depth or len(X) <= self.min_samples:\n",
        "            return self.compute_output(residual, probs)\n",
        "\n",
        "        start = time.time()\n",
        "        split_feature_idx, split_value = self.find_best_split(X, residual, probs)\n",
        "        end = time.time()\n",
        "        self.fbs_time += (end - start)\n",
        "\n",
        "        if split_feature_idx is None:\n",
        "            return self.compute_output(residual, probs)\n",
        "\n",
        "        left_idx, right_idx = self.split_data(X, split_feature_idx, split_value)\n",
        "        left = self.build_tree(X[left_idx], residual[left_idx], probs[left_idx], depth + 1)\n",
        "        right = self.build_tree(X[right_idx], residual[right_idx], probs[right_idx], depth + 1)\n",
        "\n",
        "        self.tree = {\n",
        "            'split_feature_idx': split_feature_idx,\n",
        "            'split_value': split_value,\n",
        "            'left_child': left,\n",
        "            'right_child': right\n",
        "        }\n",
        "        return self.tree\n",
        "\n",
        "    def get_output(self, x, tree):\n",
        "        if isinstance(tree, dict):\n",
        "            split_feature_idx = tree['split_feature_idx']\n",
        "            split_value = tree['split_value']\n",
        "            if x[split_feature_idx] <= split_value:\n",
        "                return self.get_output(x, tree['left_child'])\n",
        "            else:\n",
        "                return self.get_output(x, tree['right_child'])\n",
        "        else:\n",
        "            return tree\n",
        "\n",
        "    def fit(self, X, residual, probs):\n",
        "        depth = 0\n",
        "        self.tree = self.build_tree(X, residual, probs, depth)\n",
        "\n",
        "    def predict(self, X):\n",
        "        return np.array([self.get_output(x, self.tree) for x in X])"
      ]
    },
    {
      "cell_type": "markdown",
      "metadata": {
        "id": "erREaDng8IYj"
      },
      "source": [
        "## Sequential XGBoost model"
      ]
    },
    {
      "cell_type": "code",
      "execution_count": 3,
      "metadata": {},
      "outputs": [],
      "source": [
        "class XGBoost:\n",
        "    def __init__(self, n_estimators, lr, lambda_ = 1e-7, gamma = 0, min_child_weight = 1, max_depth = 3):\n",
        "        self.n_estimators = n_estimators\n",
        "        self.lr = lr\n",
        "        self.initial_pred = 0.5\n",
        "        self.lambda_ = lambda_\n",
        "        self.min_child_weight = min_child_weight\n",
        "        self.max_depth = max_depth\n",
        "        self.gamma = gamma\n",
        "        self.models = []\n",
        "        self.fbs_time = 0\n",
        "        self.logodds_time = 0\n",
        "        self.residual_time = 0\n",
        "        self.predict_time = 0\n",
        "\n",
        "    #Turn probability into log odds value\n",
        "    def compute_logodds(self, p):\n",
        "        return np.log(p / (1 - p))\n",
        "\n",
        "    #Caclculate pseudo residuals\n",
        "    def residual(self, y_true, y_pred):\n",
        "        return (y_true - y_pred)\n",
        "    \n",
        "    #Change log odds value back to probability\n",
        "    def compute_prob(self, logodds_p):\n",
        "        return np.exp(logodds_p) / (1 + np.exp(logodds_p))\n",
        "\n",
        "    def fit(self, X, y):\n",
        "        p = np.full(len(y), self.initial_pred)\n",
        "\n",
        "        for _ in range(self.n_estimators):\n",
        "            probs = np.copy(p)\n",
        "            start = time.time()\n",
        "            residual = self.residual(y, p)\n",
        "            end = time.time()\n",
        "            self.residual_time += (end - start)\n",
        "\n",
        "            model = Tree(lambda_ = self.lambda_, gamma = self.gamma, max_depth = self.max_depth, min_child_weight = self.min_child_weight)\n",
        "            model.fit(X, residual, probs)\n",
        "            self.fbs_time += model.fbs_time\n",
        "\n",
        "            start = time.time()\n",
        "            log_odds = self.compute_logodds(p)\n",
        "            end = time.time()\n",
        "            self.logodds_time += (end - start)\n",
        "\n",
        "            start = time.time()\n",
        "            logodds_p = log_odds + self.lr * model.predict(X)\n",
        "            p = self.compute_prob(logodds_p)\n",
        "            end = time.time()\n",
        "            self.predict_time += (end - start)\n",
        "\n",
        "            self.models.append(model)\n",
        "\n",
        "    def predict_proba(self, X):\n",
        "        pred = np.full(len(X), self.initial_pred)\n",
        "        for model in self.models:\n",
        "            logodds_p = self.compute_logodds(pred) + self.lr * model.predict(X)\n",
        "            pred = np.exp(logodds_p) / (1 + np.exp(logodds_p))\n",
        "        return pred"
      ]
    },
    {
      "cell_type": "code",
      "source": [
        "def extract_time_by_min_sec(time):\n",
        "  minute = math.floor(time / 60)\n",
        "  second = round(time % 60)\n",
        "  return (minute, second)"
      ],
      "metadata": {
        "id": "vWni6yE5SX8o"
      },
      "execution_count": 26,
      "outputs": []
    },
    {
      "cell_type": "markdown",
      "metadata": {
        "id": "b1fZjrmlxvUH"
      },
      "source": [
        "## Load minimal data with 3000 rows and 300 rows for training and testing data respectively"
      ]
    },
    {
      "cell_type": "code",
      "execution_count": 4,
      "metadata": {
        "id": "1x2IQyQTxvUI"
      },
      "outputs": [],
      "source": [
        "minimal_train = np.load('train_data_3labels.npz', allow_pickle = True)\n",
        "X_train = minimal_train['data']\n",
        "y_train = minimal_train['label']\n",
        "\n",
        "minimal_test = np.load('test_data_3labels.npz', allow_pickle = True)\n",
        "X_test = minimal_test['data']\n",
        "y_test = minimal_test['label']"
      ]
    },
    {
      "cell_type": "markdown",
      "metadata": {
        "id": "UWpVfHCBxvUI"
      },
      "source": [
        "## Train and evaluate the model"
      ]
    },
    {
      "cell_type": "markdown",
      "metadata": {
        "id": "PHFyK2n--toa"
      },
      "source": [
        "Since our XGBoost implementation is only able to perform binary classification at the moment, we will use the One vs Rest (OvR) strategy to deal with multiple classification problem. The OvR strategy splits the multiclass dataset into multiple binary classification problems per label. The model is then trained on each binary classfication problem and the predictions are made by choosing the label having the highest prediction probability."
      ]
    },
    {
      "cell_type": "markdown",
      "metadata": {
        "id": "Da8xN0oYV5D1"
      },
      "source": [
        "### Binary classification"
      ]
    },
    {
      "cell_type": "code",
      "execution_count": 28,
      "metadata": {
        "colab": {
          "base_uri": "https://localhost:8080/"
        },
        "id": "kEKKmFp7xvUI",
        "outputId": "6ef73549-9dff-4514-e534-b4de9f95364d"
      },
      "outputs": [
        {
          "name": "stdout",
          "output_type": "stream",
          "text": [
            "accuracy:  0.9466666666666667\n",
            "log logss:  1.922328180752915\n",
            "fbs_time: 6m11s\n"
          ]
        }
      ],
      "source": [
        "xgb_model = XGBoost(3, 0.3)\n",
        "xgb_model.fit(X_train, (y_train == 0).astype(int))\n",
        "\n",
        "y_prob_pred = xgb_model.predict_proba(X_test)\n",
        "\n",
        "binary_labels_test = (y_test == 0).astype(int)\n",
        "binary_labels_pred = (y_prob_pred > 0.5).astype(int)\n",
        "accuracy = accuracy_score(binary_labels_test, binary_labels_pred)\n",
        "log_loss_val = log_loss(binary_labels_test, binary_labels_pred)\n",
        "\n",
        "print('accuracy: ', accuracy)\n",
        "print('log logss: ', log_loss_val)\n",
        "binary_labels_training_time = extract_time_by_min_sec(xgb_model.fbs_time)\n",
        "print('fbs_time: {minute}m{second}s'.format(minute = binary_labels_training_time[0] , second = binary_labels_training_time[1]))"
      ]
    },
    {
      "cell_type": "markdown",
      "metadata": {
        "id": "swU683eTElkS"
      },
      "source": [
        "### Multi-classification"
      ]
    },
    {
      "cell_type": "code",
      "execution_count": 5,
      "metadata": {
        "id": "p2JWAVdPWW5m"
      },
      "outputs": [],
      "source": [
        "class MultiClassifier:\n",
        "  def __init__(self):\n",
        "    self.models = []\n",
        "    self.training_time = 0\n",
        "\n",
        "  def fit(self, X, y):\n",
        "    start_time = time.time()\n",
        "    for label in np.unique(y):\n",
        "      binary_labels = (y == label).astype(int)\n",
        "      model = XGBoost(3, 0.3)\n",
        "      model.fit(X, binary_labels)\n",
        "      self.models.append(model)\n",
        "    end_time = time.time()\n",
        "    self.training_time += (end_time - start_time)\n",
        "\n",
        "  def predict(self, X):\n",
        "    preds = []\n",
        "    for model in self.models:\n",
        "      preds.append(model.predict_proba(X))\n",
        "    return np.argmax(preds, axis = 0)\n"
      ]
    },
    {
      "cell_type": "code",
      "execution_count": 6,
      "metadata": {
        "colab": {
          "base_uri": "https://localhost:8080/"
        },
        "id": "MOuEpRYFpSWX",
        "outputId": "38727712-dfc7-42cd-a91e-a5ab936e7736"
      },
      "outputs": [
        {
          "name": "stdout",
          "output_type": "stream",
          "text": [
            "accuracy:  0.9566666666666667\n",
            "training time: 19m8s\n"
          ]
        }
      ],
      "source": [
        "multi_classifier = MultiClassifier()\n",
        "multi_classifier.fit(X_train, y_train)\n",
        "\n",
        "y_pred = multi_classifier.predict(X_test)\n",
        "accuracy = accuracy_score(y_test, y_pred)\n",
        "print('accuracy: ', accuracy)"
      ]
    },
    {
      "cell_type": "markdown",
      "source": [
        "# Training time"
      ],
      "metadata": {
        "id": "aA839fhLKIEG"
      }
    },
    {
      "cell_type": "code",
      "source": [
        "training_time_df = pd.DataFrame({'labels': ['binary_labels', 'three_labels'],\n",
        "                                 'time': [xgb_model.fbs_time, multi_classifier.training_time]})\n",
        "training_time_df"
      ],
      "metadata": {
        "id": "ZuxmdTsrOCBV",
        "colab": {
          "base_uri": "https://localhost:8080/",
          "height": 125
        },
        "outputId": "37dd3367-dc3d-4af3-f3a5-e395b7f3eb9e"
      },
      "execution_count": 31,
      "outputs": [
        {
          "output_type": "execute_result",
          "data": {
            "text/plain": [
              "          labels         time\n",
              "0  binary_labels   371.044043\n",
              "1   three_labels  1147.678667"
            ],
            "text/html": [
              "\n",
              "  <div id=\"df-d3dc084d-2b60-4100-8d7f-0f7087821f4a\" class=\"colab-df-container\">\n",
              "    <div>\n",
              "<style scoped>\n",
              "    .dataframe tbody tr th:only-of-type {\n",
              "        vertical-align: middle;\n",
              "    }\n",
              "\n",
              "    .dataframe tbody tr th {\n",
              "        vertical-align: top;\n",
              "    }\n",
              "\n",
              "    .dataframe thead th {\n",
              "        text-align: right;\n",
              "    }\n",
              "</style>\n",
              "<table border=\"1\" class=\"dataframe\">\n",
              "  <thead>\n",
              "    <tr style=\"text-align: right;\">\n",
              "      <th></th>\n",
              "      <th>labels</th>\n",
              "      <th>time</th>\n",
              "    </tr>\n",
              "  </thead>\n",
              "  <tbody>\n",
              "    <tr>\n",
              "      <th>0</th>\n",
              "      <td>binary_labels</td>\n",
              "      <td>371.044043</td>\n",
              "    </tr>\n",
              "    <tr>\n",
              "      <th>1</th>\n",
              "      <td>three_labels</td>\n",
              "      <td>1147.678667</td>\n",
              "    </tr>\n",
              "  </tbody>\n",
              "</table>\n",
              "</div>\n",
              "    <div class=\"colab-df-buttons\">\n",
              "\n",
              "  <div class=\"colab-df-container\">\n",
              "    <button class=\"colab-df-convert\" onclick=\"convertToInteractive('df-d3dc084d-2b60-4100-8d7f-0f7087821f4a')\"\n",
              "            title=\"Convert this dataframe to an interactive table.\"\n",
              "            style=\"display:none;\">\n",
              "\n",
              "  <svg xmlns=\"http://www.w3.org/2000/svg\" height=\"24px\" viewBox=\"0 -960 960 960\">\n",
              "    <path d=\"M120-120v-720h720v720H120Zm60-500h600v-160H180v160Zm220 220h160v-160H400v160Zm0 220h160v-160H400v160ZM180-400h160v-160H180v160Zm440 0h160v-160H620v160ZM180-180h160v-160H180v160Zm440 0h160v-160H620v160Z\"/>\n",
              "  </svg>\n",
              "    </button>\n",
              "\n",
              "  <style>\n",
              "    .colab-df-container {\n",
              "      display:flex;\n",
              "      gap: 12px;\n",
              "    }\n",
              "\n",
              "    .colab-df-convert {\n",
              "      background-color: #E8F0FE;\n",
              "      border: none;\n",
              "      border-radius: 50%;\n",
              "      cursor: pointer;\n",
              "      display: none;\n",
              "      fill: #1967D2;\n",
              "      height: 32px;\n",
              "      padding: 0 0 0 0;\n",
              "      width: 32px;\n",
              "    }\n",
              "\n",
              "    .colab-df-convert:hover {\n",
              "      background-color: #E2EBFA;\n",
              "      box-shadow: 0px 1px 2px rgba(60, 64, 67, 0.3), 0px 1px 3px 1px rgba(60, 64, 67, 0.15);\n",
              "      fill: #174EA6;\n",
              "    }\n",
              "\n",
              "    .colab-df-buttons div {\n",
              "      margin-bottom: 4px;\n",
              "    }\n",
              "\n",
              "    [theme=dark] .colab-df-convert {\n",
              "      background-color: #3B4455;\n",
              "      fill: #D2E3FC;\n",
              "    }\n",
              "\n",
              "    [theme=dark] .colab-df-convert:hover {\n",
              "      background-color: #434B5C;\n",
              "      box-shadow: 0px 1px 3px 1px rgba(0, 0, 0, 0.15);\n",
              "      filter: drop-shadow(0px 1px 2px rgba(0, 0, 0, 0.3));\n",
              "      fill: #FFFFFF;\n",
              "    }\n",
              "  </style>\n",
              "\n",
              "    <script>\n",
              "      const buttonEl =\n",
              "        document.querySelector('#df-d3dc084d-2b60-4100-8d7f-0f7087821f4a button.colab-df-convert');\n",
              "      buttonEl.style.display =\n",
              "        google.colab.kernel.accessAllowed ? 'block' : 'none';\n",
              "\n",
              "      async function convertToInteractive(key) {\n",
              "        const element = document.querySelector('#df-d3dc084d-2b60-4100-8d7f-0f7087821f4a');\n",
              "        const dataTable =\n",
              "          await google.colab.kernel.invokeFunction('convertToInteractive',\n",
              "                                                    [key], {});\n",
              "        if (!dataTable) return;\n",
              "\n",
              "        const docLinkHtml = 'Like what you see? Visit the ' +\n",
              "          '<a target=\"_blank\" href=https://colab.research.google.com/notebooks/data_table.ipynb>data table notebook</a>'\n",
              "          + ' to learn more about interactive tables.';\n",
              "        element.innerHTML = '';\n",
              "        dataTable['output_type'] = 'display_data';\n",
              "        await google.colab.output.renderOutput(dataTable, element);\n",
              "        const docLink = document.createElement('div');\n",
              "        docLink.innerHTML = docLinkHtml;\n",
              "        element.appendChild(docLink);\n",
              "      }\n",
              "    </script>\n",
              "  </div>\n",
              "\n",
              "\n",
              "<div id=\"df-fb9af67b-5e3e-4f1a-970e-f93ad875887f\">\n",
              "  <button class=\"colab-df-quickchart\" onclick=\"quickchart('df-fb9af67b-5e3e-4f1a-970e-f93ad875887f')\"\n",
              "            title=\"Suggest charts\"\n",
              "            style=\"display:none;\">\n",
              "\n",
              "<svg xmlns=\"http://www.w3.org/2000/svg\" height=\"24px\"viewBox=\"0 0 24 24\"\n",
              "     width=\"24px\">\n",
              "    <g>\n",
              "        <path d=\"M19 3H5c-1.1 0-2 .9-2 2v14c0 1.1.9 2 2 2h14c1.1 0 2-.9 2-2V5c0-1.1-.9-2-2-2zM9 17H7v-7h2v7zm4 0h-2V7h2v10zm4 0h-2v-4h2v4z\"/>\n",
              "    </g>\n",
              "</svg>\n",
              "  </button>\n",
              "\n",
              "<style>\n",
              "  .colab-df-quickchart {\n",
              "      --bg-color: #E8F0FE;\n",
              "      --fill-color: #1967D2;\n",
              "      --hover-bg-color: #E2EBFA;\n",
              "      --hover-fill-color: #174EA6;\n",
              "      --disabled-fill-color: #AAA;\n",
              "      --disabled-bg-color: #DDD;\n",
              "  }\n",
              "\n",
              "  [theme=dark] .colab-df-quickchart {\n",
              "      --bg-color: #3B4455;\n",
              "      --fill-color: #D2E3FC;\n",
              "      --hover-bg-color: #434B5C;\n",
              "      --hover-fill-color: #FFFFFF;\n",
              "      --disabled-bg-color: #3B4455;\n",
              "      --disabled-fill-color: #666;\n",
              "  }\n",
              "\n",
              "  .colab-df-quickchart {\n",
              "    background-color: var(--bg-color);\n",
              "    border: none;\n",
              "    border-radius: 50%;\n",
              "    cursor: pointer;\n",
              "    display: none;\n",
              "    fill: var(--fill-color);\n",
              "    height: 32px;\n",
              "    padding: 0;\n",
              "    width: 32px;\n",
              "  }\n",
              "\n",
              "  .colab-df-quickchart:hover {\n",
              "    background-color: var(--hover-bg-color);\n",
              "    box-shadow: 0 1px 2px rgba(60, 64, 67, 0.3), 0 1px 3px 1px rgba(60, 64, 67, 0.15);\n",
              "    fill: var(--button-hover-fill-color);\n",
              "  }\n",
              "\n",
              "  .colab-df-quickchart-complete:disabled,\n",
              "  .colab-df-quickchart-complete:disabled:hover {\n",
              "    background-color: var(--disabled-bg-color);\n",
              "    fill: var(--disabled-fill-color);\n",
              "    box-shadow: none;\n",
              "  }\n",
              "\n",
              "  .colab-df-spinner {\n",
              "    border: 2px solid var(--fill-color);\n",
              "    border-color: transparent;\n",
              "    border-bottom-color: var(--fill-color);\n",
              "    animation:\n",
              "      spin 1s steps(1) infinite;\n",
              "  }\n",
              "\n",
              "  @keyframes spin {\n",
              "    0% {\n",
              "      border-color: transparent;\n",
              "      border-bottom-color: var(--fill-color);\n",
              "      border-left-color: var(--fill-color);\n",
              "    }\n",
              "    20% {\n",
              "      border-color: transparent;\n",
              "      border-left-color: var(--fill-color);\n",
              "      border-top-color: var(--fill-color);\n",
              "    }\n",
              "    30% {\n",
              "      border-color: transparent;\n",
              "      border-left-color: var(--fill-color);\n",
              "      border-top-color: var(--fill-color);\n",
              "      border-right-color: var(--fill-color);\n",
              "    }\n",
              "    40% {\n",
              "      border-color: transparent;\n",
              "      border-right-color: var(--fill-color);\n",
              "      border-top-color: var(--fill-color);\n",
              "    }\n",
              "    60% {\n",
              "      border-color: transparent;\n",
              "      border-right-color: var(--fill-color);\n",
              "    }\n",
              "    80% {\n",
              "      border-color: transparent;\n",
              "      border-right-color: var(--fill-color);\n",
              "      border-bottom-color: var(--fill-color);\n",
              "    }\n",
              "    90% {\n",
              "      border-color: transparent;\n",
              "      border-bottom-color: var(--fill-color);\n",
              "    }\n",
              "  }\n",
              "</style>\n",
              "\n",
              "  <script>\n",
              "    async function quickchart(key) {\n",
              "      const quickchartButtonEl =\n",
              "        document.querySelector('#' + key + ' button');\n",
              "      quickchartButtonEl.disabled = true;  // To prevent multiple clicks.\n",
              "      quickchartButtonEl.classList.add('colab-df-spinner');\n",
              "      try {\n",
              "        const charts = await google.colab.kernel.invokeFunction(\n",
              "            'suggestCharts', [key], {});\n",
              "      } catch (error) {\n",
              "        console.error('Error during call to suggestCharts:', error);\n",
              "      }\n",
              "      quickchartButtonEl.classList.remove('colab-df-spinner');\n",
              "      quickchartButtonEl.classList.add('colab-df-quickchart-complete');\n",
              "    }\n",
              "    (() => {\n",
              "      let quickchartButtonEl =\n",
              "        document.querySelector('#df-fb9af67b-5e3e-4f1a-970e-f93ad875887f button');\n",
              "      quickchartButtonEl.style.display =\n",
              "        google.colab.kernel.accessAllowed ? 'block' : 'none';\n",
              "    })();\n",
              "  </script>\n",
              "</div>\n",
              "\n",
              "  <div id=\"id_7a07b3df-901f-4d71-9d25-0ef73632fba0\">\n",
              "    <style>\n",
              "      .colab-df-generate {\n",
              "        background-color: #E8F0FE;\n",
              "        border: none;\n",
              "        border-radius: 50%;\n",
              "        cursor: pointer;\n",
              "        display: none;\n",
              "        fill: #1967D2;\n",
              "        height: 32px;\n",
              "        padding: 0 0 0 0;\n",
              "        width: 32px;\n",
              "      }\n",
              "\n",
              "      .colab-df-generate:hover {\n",
              "        background-color: #E2EBFA;\n",
              "        box-shadow: 0px 1px 2px rgba(60, 64, 67, 0.3), 0px 1px 3px 1px rgba(60, 64, 67, 0.15);\n",
              "        fill: #174EA6;\n",
              "      }\n",
              "\n",
              "      [theme=dark] .colab-df-generate {\n",
              "        background-color: #3B4455;\n",
              "        fill: #D2E3FC;\n",
              "      }\n",
              "\n",
              "      [theme=dark] .colab-df-generate:hover {\n",
              "        background-color: #434B5C;\n",
              "        box-shadow: 0px 1px 3px 1px rgba(0, 0, 0, 0.15);\n",
              "        filter: drop-shadow(0px 1px 2px rgba(0, 0, 0, 0.3));\n",
              "        fill: #FFFFFF;\n",
              "      }\n",
              "    </style>\n",
              "    <button class=\"colab-df-generate\" onclick=\"generateWithVariable('training_time_df')\"\n",
              "            title=\"Generate code using this dataframe.\"\n",
              "            style=\"display:none;\">\n",
              "\n",
              "  <svg xmlns=\"http://www.w3.org/2000/svg\" height=\"24px\"viewBox=\"0 0 24 24\"\n",
              "       width=\"24px\">\n",
              "    <path d=\"M7,19H8.4L18.45,9,17,7.55,7,17.6ZM5,21V16.75L18.45,3.32a2,2,0,0,1,2.83,0l1.4,1.43a1.91,1.91,0,0,1,.58,1.4,1.91,1.91,0,0,1-.58,1.4L9.25,21ZM18.45,9,17,7.55Zm-12,3A5.31,5.31,0,0,0,4.9,8.1,5.31,5.31,0,0,0,1,6.5,5.31,5.31,0,0,0,4.9,4.9,5.31,5.31,0,0,0,6.5,1,5.31,5.31,0,0,0,8.1,4.9,5.31,5.31,0,0,0,12,6.5,5.46,5.46,0,0,0,6.5,12Z\"/>\n",
              "  </svg>\n",
              "    </button>\n",
              "    <script>\n",
              "      (() => {\n",
              "      const buttonEl =\n",
              "        document.querySelector('#id_7a07b3df-901f-4d71-9d25-0ef73632fba0 button.colab-df-generate');\n",
              "      buttonEl.style.display =\n",
              "        google.colab.kernel.accessAllowed ? 'block' : 'none';\n",
              "\n",
              "      buttonEl.onclick = () => {\n",
              "        google.colab.notebook.generateWithVariable('training_time_df');\n",
              "      }\n",
              "      })();\n",
              "    </script>\n",
              "  </div>\n",
              "\n",
              "    </div>\n",
              "  </div>\n"
            ],
            "application/vnd.google.colaboratory.intrinsic+json": {
              "type": "dataframe",
              "variable_name": "training_time_df",
              "summary": "{\n  \"name\": \"training_time_df\",\n  \"rows\": 2,\n  \"fields\": [\n    {\n      \"column\": \"labels\",\n      \"properties\": {\n        \"dtype\": \"string\",\n        \"num_unique_values\": 2,\n        \"samples\": [\n          \"three_labels\",\n          \"binary_labels\"\n        ],\n        \"semantic_type\": \"\",\n        \"description\": \"\"\n      }\n    },\n    {\n      \"column\": \"time\",\n      \"properties\": {\n        \"dtype\": \"number\",\n        \"std\": 549.1636089691631,\n        \"min\": 371.044043302536,\n        \"max\": 1147.6786670684814,\n        \"num_unique_values\": 2,\n        \"samples\": [\n          1147.6786670684814,\n          371.044043302536\n        ],\n        \"semantic_type\": \"\",\n        \"description\": \"\"\n      }\n    }\n  ]\n}"
            }
          },
          "metadata": {},
          "execution_count": 31
        }
      ]
    },
    {
      "cell_type": "code",
      "source": [
        "ax = sns.barplot(data = training_time_df, x = 'labels', y = 'time')\n",
        "ax.set_ylabel('time (seconds)')"
      ],
      "metadata": {
        "colab": {
          "base_uri": "https://localhost:8080/",
          "height": 471
        },
        "id": "sm2ProJJBd4r",
        "outputId": "9b6aae34-da5f-48be-df9b-ae4e4730e1f7"
      },
      "execution_count": 32,
      "outputs": [
        {
          "output_type": "execute_result",
          "data": {
            "text/plain": [
              "Text(0, 0.5, 'time (seconds)')"
            ]
          },
          "metadata": {},
          "execution_count": 32
        },
        {
          "output_type": "display_data",
          "data": {
            "text/plain": [
              "<Figure size 640x480 with 1 Axes>"
            ],
            "image/png": "[encoded data removed]"
          },
          "metadata": {}
        }
      ]
    }
  ],
  "metadata": {
    "colab": {
      "provenance": []
    },
    "kernelspec": {
      "display_name": "Python 3",
      "name": "python3"
    },
    "language_info": {
      "codemirror_mode": {
        "name": "ipython",
        "version": 3
      },
      "file_extension": ".py",
      "mimetype": "text/x-python",
      "name": "python",
      "nbconvert_exporter": "python",
      "pygments_lexer": "ipython3",
      "version": "3.10.7"
    }
  },
  "nbformat": 4,
  "nbformat_minor": 0
}
