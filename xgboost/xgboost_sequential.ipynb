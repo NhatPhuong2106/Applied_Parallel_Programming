{
  "cells": [
    {
      "cell_type": "markdown",
      "metadata": {
        "id": "JGgvojIKJYHF"
      },
      "source": [
        "<h1>XGBoost</h1>"
      ]
    },
    {
      "cell_type": "markdown",
      "metadata": {
        "id": "8tOLBiOiIvzW"
      },
      "source": [
        "# Introduction"
      ]
    },
    {
      "cell_type": "markdown",
      "metadata": {
        "id": "1_95sQo3JIlI"
      },
      "source": [
        "XGBoost is a gradient boosting model which operates by building a series of decision trees iteratively, where each subsequent tree will try to correct the errors made by the previous tree. It uses gradient-based optimization technique to minimize the loss function."
      ]
    },
    {
      "cell_type": "markdown",
      "metadata": {
        "id": "eynTwbU9kj3s"
      },
      "source": [
        "# How XGBoost algorithm works"
      ]
    },
    {
      "cell_type": "markdown",
      "metadata": {
        "id": "omJGd9PlkqrW"
      },
      "source": [
        "## 1. Calculate pseudo residuals\n",
        "\n",
        "\n"
      ]
    },
    {
      "cell_type": "markdown",
      "metadata": {
        "id": "jcBBVUAMn3c7"
      },
      "source": [
        "$Residuals = y - p$  \n",
        "* $y$: Target labels\n",
        "* $p$: Prediction probability  \n",
        "\n",
        "The initial prediction probability is usually 0.5\n",
        "\n",
        "\n"
      ]
    },
    {
      "cell_type": "markdown",
      "metadata": {
        "id": "l3G3aBpBqbga"
      },
      "source": [
        "## 2. Find the best split"
      ]
    },
    {
      "cell_type": "markdown",
      "metadata": {
        "id": "arFiyWV5sW6A"
      },
      "source": [
        "XGBoost uses a metric called **Similarity Score** to choose the split when building the decision tree.  \n",
        "\n",
        "*Similarity Score* = $\\frac{∑(Residuals)^2}{∑Pi-1*(1-Pi-1) + λ}$  \n",
        "\n",
        "* $Pi$: Previous prediction probability\n",
        "* $λ$: Regularization parameter\n",
        "\n",
        "The feature and value decided as the threshold to split the tree is the one having the highest **Gain**  \n",
        "\n",
        "$Gain = SimilarityScore(LeftChild) + SimilarityScore(RightChild) - SimilarityScore(Root)$"
      ]
    },
    {
      "cell_type": "markdown",
      "metadata": {
        "id": "VfRfrQbsBVNS"
      },
      "source": [
        "## 3. Compute the output value"
      ]
    },
    {
      "cell_type": "markdown",
      "metadata": {
        "id": "niC5SbFyBaDX"
      },
      "source": [
        "The value stored in leaf node are computed using the formular below\n",
        "\n",
        "$Output = \\frac{∑(Residuals)}{∑Pi-1*(1-Pi-1) + λ}$"
      ]
    },
    {
      "cell_type": "markdown",
      "metadata": {
        "id": "qGDn_lL0Q_6q"
      },
      "source": [
        "## 4. Update prediction probability"
      ]
    },
    {
      "cell_type": "markdown",
      "metadata": {
        "id": "9Nowi8rbRdG4"
      },
      "source": [
        "After finishing building the tree, the prediction will be updated based on the calculated output values  \n",
        "\n",
        "$Prediction = ln(\\frac{P}{1-P}) + α*Output$\n",
        "\n",
        "* $P$: Previous prediction probabiblity\n",
        "* $Output$: The computed output value of the current tree  \n",
        "\n",
        "The values we get from the formular above actually are log odds values. Therefore, they need to be converted to probability values\n",
        "\n",
        "$Probability = \\frac{e^{pred}}{1 + e^{pred}}$  \n",
        "\n",
        "* $pred$: The log odds values of prediction  \n",
        "\n",
        "Compute the residuals again with the updated probability and repeat the same steps above for subsequent models\n"
      ]
    },
    {
      "cell_type": "markdown",
      "metadata": {
        "id": "hgJQ0ddhnxuo"
      },
      "source": [
        "# Implementation"
      ]
    },
    {
      "cell_type": "code",
      "execution_count": 1,
      "metadata": {
        "id": "jjLREnOAUH6r"
      },
      "outputs": [],
      "source": [
        "import numpy as np\n",
        "import time\n",
        "from sklearn.metrics import accuracy_score, log_loss"
      ]
    },
    {
      "cell_type": "markdown",
      "metadata": {
        "id": "x9-4tSGH70vL"
      },
      "source": [
        "## Implement decision tree model"
      ]
    },
    {
      "cell_type": "code",
      "execution_count": 2,
      "metadata": {
        "id": "NWGpSJ29bVr4"
      },
      "outputs": [],
      "source": [
        "class Tree:\n",
        "    def __init__(self, max_depth = 3, min_samples = 1, min_child_weight = 1, lambda_ = 0, gamma = 0):\n",
        "        self.max_depth = max_depth\n",
        "        self.min_samples = min_samples\n",
        "        self.min_child_weight = min_child_weight\n",
        "        self.lambda_ = lambda_\n",
        "        self.gamma = gamma\n",
        "        self.tree = {}\n",
        "        self.fbs_time = 0\n",
        "\n",
        "\n",
        "    #Compute the Similarity Score\n",
        "    def similarity(self, residual, probs):\n",
        "        nu = np.sum(residual) ** 2\n",
        "        de = np.sum(probs * (1 - probs)) + self.lambda_\n",
        "        return nu / de\n",
        "\n",
        "    #Compute the output value in leaf node\n",
        "    def compute_output(self, residual, probs):\n",
        "        nu = np.sum(residual)\n",
        "        de = np.sum(probs * (1 - probs)) + self.lambda_\n",
        "        return nu / de\n",
        "\n",
        "    def cover(self, probs):\n",
        "        return np.sum(probs * (1 - probs))\n",
        "\n",
        "    def split_data(self, X, feature_idx, split_value):\n",
        "        left_idx = X[:, feature_idx] <= split_value\n",
        "        right_idx = X[:, feature_idx] > split_value\n",
        "        return left_idx, right_idx\n",
        "\n",
        "    #Choose the best split based on the Gain score\n",
        "    def find_best_split(self, X, residual, probs):\n",
        "        best_gain = -np.inf\n",
        "        best_split_feature_idx = None\n",
        "        best_split_value = None\n",
        "\n",
        "        for feature_idx in range(X.shape[1]):\n",
        "            list_values = X[:, feature_idx]\n",
        "            list_unique = np.unique(list_values)\n",
        "\n",
        "            for i in range(len(list_unique) - 1):\n",
        "                value = (list_unique[i] + list_unique[i + 1]) / 2\n",
        "\n",
        "                left_idx, right_idx = self.split_data(X, feature_idx, value)\n",
        "                p_left = probs[left_idx]\n",
        "                p_right = probs[right_idx]\n",
        "\n",
        "                if (len(left_idx) < self.min_samples or len(right_idx) < self.min_samples\n",
        "                    or self.cover(p_left) < self.min_child_weight or self.cover(p_right) < self.min_child_weight):\n",
        "                    continue\n",
        "\n",
        "                r_left = residual[left_idx]\n",
        "                r_right = residual[right_idx]\n",
        "\n",
        "                gain = self.similarity(r_left, p_left) + self.similarity(r_right, p_right) - self.similarity(residual, probs)\n",
        "\n",
        "                if gain > best_gain:\n",
        "                    best_gain = gain\n",
        "                    best_split_feature_idx = feature_idx\n",
        "                    best_split_value = value\n",
        "\n",
        "        if(best_gain - self.gamma < 0):\n",
        "            best_split_feature_idx = None\n",
        "            best_split_value = None\n",
        "\n",
        "        return best_split_feature_idx, best_split_value\n",
        "\n",
        "    def build_tree(self, X, residual, probs, depth):\n",
        "        if depth >= self.max_depth or len(X) <= self.min_samples:\n",
        "            return self.compute_output(residual, probs)\n",
        "\n",
        "        start = time.time()\n",
        "        split_feature_idx, split_value = self.find_best_split(X, residual, probs)\n",
        "        end = time.time()\n",
        "        self.fbs_time += (end - start)\n",
        "\n",
        "        if split_feature_idx is None:\n",
        "            return self.compute_output(residual, probs)\n",
        "\n",
        "        left_idx, right_idx = self.split_data(X, split_feature_idx, split_value)\n",
        "        left = self.build_tree(X[left_idx], residual[left_idx], probs[left_idx], depth + 1)\n",
        "        right = self.build_tree(X[right_idx], residual[right_idx], probs[right_idx], depth + 1)\n",
        "\n",
        "        self.tree = {\n",
        "            'split_feature_idx': split_feature_idx,\n",
        "            'split_value': split_value,\n",
        "            'left_child': left,\n",
        "            'right_child': right\n",
        "        }\n",
        "        return self.tree\n",
        "\n",
        "    def get_output(self, x, tree):\n",
        "        if isinstance(tree, dict):\n",
        "            split_feature_idx = tree['split_feature_idx']\n",
        "            split_value = tree['split_value']\n",
        "            if x[split_feature_idx] <= split_value:\n",
        "                return self.get_output(x, tree['left_child'])\n",
        "            else:\n",
        "                return self.get_output(x, tree['right_child'])\n",
        "        else:\n",
        "            return tree\n",
        "\n",
        "    def fit(self, X, residual, probs):\n",
        "        depth = 0\n",
        "        self.tree = self.build_tree(X, residual, probs, depth)\n",
        "\n",
        "    def predict(self, X):\n",
        "        return np.array([self.get_output(x, self.tree) for x in X])"
      ]
    },
    {
      "cell_type": "markdown",
      "metadata": {
        "id": "erREaDng8IYj"
      },
      "source": [
        "## Sequential XGBoost model"
      ]
    },
    {
      "cell_type": "code",
      "execution_count": 3,
      "metadata": {},
      "outputs": [],
      "source": [
        "class XGBoost:\n",
        "    def __init__(self, n_estimators, lr, lambda_ = 1e-7, gamma = 0, min_child_weight = 1, max_depth = 3):\n",
        "        self.n_estimators = n_estimators\n",
        "        self.lr = lr\n",
        "        self.initial_pred = 0.5\n",
        "        self.lambda_ = lambda_\n",
        "        self.min_child_weight = min_child_weight\n",
        "        self.max_depth = max_depth\n",
        "        self.gamma = gamma\n",
        "        self.models = []\n",
        "        self.fbs_time = 0\n",
        "        self.logodds_time = 0\n",
        "        self.residual_time = 0\n",
        "        self.predict_time = 0\n",
        "\n",
        "    #Turn probability into log odds value\n",
        "    def compute_logodds(self, p):\n",
        "        return np.log(p / (1 - p))\n",
        "\n",
        "    #Caclculate pseudo residuals\n",
        "    def residual(self, y_true, y_pred):\n",
        "        return (y_true - y_pred)\n",
        "    \n",
        "    #Change log odds value back to probability\n",
        "    def compute_prob(self, logodds_p):\n",
        "        return np.exp(logodds_p) / (1 + np.exp(logodds_p))\n",
        "\n",
        "    def fit(self, X, y):\n",
        "        p = np.full(len(y), self.initial_pred)\n",
        "\n",
        "        for _ in range(self.n_estimators):\n",
        "            probs = np.copy(p)\n",
        "            start = time.time()\n",
        "            residual = self.residual(y, p)\n",
        "            end = time.time()\n",
        "            self.residual_time += (end - start)\n",
        "\n",
        "            model = Tree(lambda_ = self.lambda_, gamma = self.gamma, max_depth = self.max_depth, min_child_weight = self.min_child_weight)\n",
        "            model.fit(X, residual, probs)\n",
        "            self.fbs_time += model.fbs_time\n",
        "\n",
        "            start = time.time()\n",
        "            log_odds = self.compute_logodds(p)\n",
        "            end = time.time()\n",
        "            self.logodds_time += (end - start)\n",
        "\n",
        "            start = time.time()\n",
        "            logodds_p = log_odds + self.lr * model.predict(X)\n",
        "            p = self.compute_prob(logodds_p)\n",
        "            end = time.time()\n",
        "            self.predict_time += (end - start)\n",
        "\n",
        "            self.models.append(model)\n",
        "\n",
        "    def predict_proba(self, X):\n",
        "        pred = np.full(len(X), self.initial_pred)\n",
        "        for model in self.models:\n",
        "            logodds_p = self.compute_logodds(pred) + self.lr * model.predict(X)\n",
        "            pred = np.exp(logodds_p) / (1 + np.exp(logodds_p))\n",
        "        return pred"
      ]
    },
    {
      "cell_type": "markdown",
      "metadata": {
        "id": "b1fZjrmlxvUH"
      },
      "source": [
        "## Load minimal data with 3000 rows and 300 rows for training and testing data respectively"
      ]
    },
    {
      "cell_type": "code",
      "execution_count": 4,
      "metadata": {
        "id": "1x2IQyQTxvUI"
      },
      "outputs": [],
      "source": [
        "minimal_train = np.load('train_data_3labels.npz', allow_pickle = True)\n",
        "X_train = minimal_train['data']\n",
        "y_train = minimal_train['label']\n",
        "\n",
        "minimal_test = np.load('test_data_3labels.npz', allow_pickle = True)\n",
        "X_test = minimal_test['data']\n",
        "y_test = minimal_test['label']"
      ]
    },
    {
      "cell_type": "markdown",
      "metadata": {
        "id": "UWpVfHCBxvUI"
      },
      "source": [
        "## Train and evaluate the model"
      ]
    },
    {
      "cell_type": "markdown",
      "metadata": {
        "id": "PHFyK2n--toa"
      },
      "source": [
        "Since our XGBoost implementation is only able to perform binary classification at the moment, we will use the One vs Rest (OvR) strategy to deal with multiple classification problem. The OvR strategy splits the multiclass dataset into multiple binary classification problems per label. The model is then trained on each binary classfication problem and the predictions are made by choosing the label having the highest prediction probability."
      ]
    },
    {
      "cell_type": "markdown",
      "metadata": {
        "id": "Da8xN0oYV5D1"
      },
      "source": [
        "### Binary classification"
      ]
    },
    {
      "cell_type": "code",
      "execution_count": 9,
      "metadata": {
        "colab": {
          "base_uri": "https://localhost:8080/"
        },
        "id": "kEKKmFp7xvUI",
        "outputId": "6ef73549-9dff-4514-e534-b4de9f95364d"
      },
      "outputs": [
        {
          "name": "stdout",
          "output_type": "stream",
          "text": [
            "accuracy:  0.9466666666666667\n",
            "log logss:  1.922328180752915\n"
          ]
        }
      ],
      "source": [
        "xgb_model = XGBoost(3, 0.3)\n",
        "xgb_model.fit(X_train, (y_train == 0).astype(int))\n",
        "\n",
        "y_prob_pred = xgb_model.predict_proba(X_test)\n",
        "\n",
        "binary_labels_test = (y_test == 0).astype(int)\n",
        "binary_labels_pred = (y_prob_pred > 0.5).astype(int)\n",
        "accuracy = accuracy_score(binary_labels_test, binary_labels_pred)\n",
        "log_loss_val = log_loss(binary_labels_test, binary_labels_pred)\n",
        "\n",
        "print('accuracy: ', accuracy)\n",
        "print('log logss: ', log_loss_val)"
      ]
    },
    {
      "cell_type": "markdown",
      "metadata": {
        "id": "swU683eTElkS"
      },
      "source": [
        "### Multi-classification"
      ]
    },
    {
      "cell_type": "code",
      "execution_count": 5,
      "metadata": {
        "id": "p2JWAVdPWW5m"
      },
      "outputs": [],
      "source": [
        "class MultiClassifier:\n",
        "  def __init__(self):\n",
        "    self.models = []\n",
        "    self.training_time = 0\n",
        "\n",
        "  def fit(self, X, y):\n",
        "    start_time = time.time()\n",
        "    for label in np.unique(y):\n",
        "      binary_labels = (y == label).astype(int)\n",
        "      model = XGBoost(3, 0.3)\n",
        "      model.fit(X, binary_labels)\n",
        "      self.models.append(model)\n",
        "    end_time = time.time()\n",
        "    self.training_time += (end_time - start_time)\n",
        "\n",
        "  def predict(self, X):\n",
        "    preds = []\n",
        "    for model in self.models:\n",
        "      preds.append(model.predict_proba(X))\n",
        "    return np.argmax(preds, axis = 0)\n"
      ]
    },
    {
      "cell_type": "code",
      "execution_count": 6,
      "metadata": {
        "colab": {
          "base_uri": "https://localhost:8080/"
        },
        "id": "MOuEpRYFpSWX",
        "outputId": "dc942af9-1ab4-45cd-9bb4-e460c00de1b7"
      },
      "outputs": [
        {
          "name": "stdout",
          "output_type": "stream",
          "text": [
            "accuracy:  0.9566666666666667\n"
          ]
        }
      ],
      "source": [
        "multi_classifier = MultiClassifier()\n",
        "multi_classifier.fit(X_train, y_train)\n",
        "\n",
        "y_pred = multi_classifier.predict(X_test)\n",
        "accuracy = accuracy_score(y_test, y_pred)\n",
        "print('accuracy: ', accuracy)"
      ]
    }
  ],
  "metadata": {
    "colab": {
      "provenance": []
    },
    "kernelspec": {
      "display_name": "Python 3",
      "name": "python3"
    },
    "language_info": {
      "codemirror_mode": {
        "name": "ipython",
        "version": 3
      },
      "file_extension": ".py",
      "mimetype": "text/x-python",
      "name": "python",
      "nbconvert_exporter": "python",
      "pygments_lexer": "ipython3",
      "version": "3.10.7"
    }
  },
  "nbformat": 4,
  "nbformat_minor": 0
}
